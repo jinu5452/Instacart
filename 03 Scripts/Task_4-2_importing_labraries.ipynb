{
 "cells": [
  {
   "cell_type": "markdown",
   "id": "b4ad7af1",
   "metadata": {},
   "source": [
    "# importing Labraries"
   ]
  },
  {
   "cell_type": "code",
   "execution_count": 3,
   "id": "335a6688",
   "metadata": {},
   "outputs": [],
   "source": [
    "import pandas as pd\n",
    "import numpy as np\n",
    "import os"
   ]
  },
  {
   "cell_type": "markdown",
   "id": "c47fb87c",
   "metadata": {},
   "source": [
    "## Python data type\n"
   ]
  },
  {
   "cell_type": "code",
   "execution_count": 8,
   "id": "e0a17528",
   "metadata": {},
   "outputs": [
    {
     "name": "stdout",
     "output_type": "stream",
     "text": [
      "100\n"
     ]
    }
   ],
   "source": [
    "x=10\n",
    "y=90\n",
    "print(x+y)"
   ]
  },
  {
   "cell_type": "code",
   "execution_count": 9,
   "id": "cf796242",
   "metadata": {},
   "outputs": [
    {
     "data": {
      "text/plain": [
       "100"
      ]
     },
     "execution_count": 9,
     "metadata": {},
     "output_type": "execute_result"
    }
   ],
   "source": [
    "85+15"
   ]
  },
  {
   "cell_type": "code",
   "execution_count": 11,
   "id": "98cf6167",
   "metadata": {},
   "outputs": [
    {
     "data": {
      "text/plain": [
       "100"
      ]
     },
     "execution_count": 11,
     "metadata": {},
     "output_type": "execute_result"
    }
   ],
   "source": [
    "z=110\n",
    "z-x"
   ]
  },
  {
   "cell_type": "code",
   "execution_count": 21,
   "id": "0f15bf9f",
   "metadata": {},
   "outputs": [
    {
     "data": {
      "text/plain": [
       "3.0350091809945825"
      ]
     },
     "execution_count": 21,
     "metadata": {},
     "output_type": "execute_result"
    }
   ],
   "source": [
    "a=9.9999\n",
    "b=3.29485\n",
    "a/b"
   ]
  },
  {
   "cell_type": "code",
   "execution_count": 22,
   "id": "50b45220",
   "metadata": {},
   "outputs": [
    {
     "name": "stdout",
     "output_type": "stream",
     "text": [
      "antivirus\n"
     ]
    }
   ],
   "source": [
    "ab='anti'\n",
    "cd='virus'\n",
    "print(ab+cd)"
   ]
  },
  {
   "cell_type": "code",
   "execution_count": 13,
   "id": "d63ddc26",
   "metadata": {},
   "outputs": [
    {
     "data": {
      "text/plain": [
       "'Merry Christmas'"
      ]
     },
     "execution_count": 13,
     "metadata": {},
     "output_type": "execute_result"
    }
   ],
   "source": [
    "c='Merry '\n",
    "d='Christmas'\n",
    "e='string'\n",
    "f='is'\n",
    "c+d"
   ]
  },
  {
   "cell_type": "code",
   "execution_count": 23,
   "id": "98dea47e",
   "metadata": {},
   "outputs": [
    {
     "data": {
      "text/plain": [
       "'string is not numerical data'"
      ]
     },
     "execution_count": 23,
     "metadata": {},
     "output_type": "execute_result"
    }
   ],
   "source": [
    "e+\" \"+f+' '+'not'+' numerical data'"
   ]
  },
  {
   "cell_type": "code",
   "execution_count": 20,
   "id": "6f6aae04",
   "metadata": {},
   "outputs": [
    {
     "data": {
      "text/plain": [
       "'isisisisisisisisisisisisisisisisisisisisisisisisisisisisisisisisisisisisisisisisisisisisisisisisisisisisisisisisisisisisisisisisisisisisisisisisisisisisisisisisisisisisisisisisisisisisisisisisisisisis'"
      ]
     },
     "execution_count": 20,
     "metadata": {},
     "output_type": "execute_result"
    }
   ],
   "source": [
    "f*100"
   ]
  },
  {
   "cell_type": "code",
   "execution_count": null,
   "id": "f7fe7775",
   "metadata": {},
   "outputs": [],
   "source": []
  }
 ],
 "metadata": {
  "kernelspec": {
   "display_name": "Python 3 (ipykernel)",
   "language": "python",
   "name": "python3"
  },
  "language_info": {
   "codemirror_mode": {
    "name": "ipython",
    "version": 3
   },
   "file_extension": ".py",
   "mimetype": "text/x-python",
   "name": "python",
   "nbconvert_exporter": "python",
   "pygments_lexer": "ipython3",
   "version": "3.11.5"
  }
 },
 "nbformat": 4,
 "nbformat_minor": 5
}
